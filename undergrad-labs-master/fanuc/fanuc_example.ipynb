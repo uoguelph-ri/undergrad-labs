{
 "cells": [
  {
   "cell_type": "code",
   "execution_count": null,
   "metadata": {},
   "outputs": [],
   "source": [
    "#!/usr/bin/env python\n",
    "\n",
    "from fanuc_pcdk_client import FanucPCDKClient\n",
    "from robot_loc_world import RobotLocWorld\n",
    "from robot_loc_joint import RobotLocJoint\n",
    "from time import sleep\n",
    "\n",
    "ROBOT_SPEED = 30\n",
    "ROBOT_SPEED_LINEAR = 45"
   ]
  },
  {
   "cell_type": "code",
   "execution_count": null,
   "metadata": {},
   "outputs": [],
   "source": [
    "# Robot init\n",
    "robot = FanucPCDKClient()\n",
    "robot.connect()\n",
    "\n",
    "# Run teach pendant program.\n",
    "robot.run_program('PCDK')\n",
    "robot.reset_alarms()\n",
    "\n",
    "# Adjust the speed of the robot\n",
    "robot.set_speed(ROBOT_SPEED)"
   ]
  },
  {
   "cell_type": "markdown",
   "metadata": {},
   "source": [
    "## Robot Motion"
   ]
  },
  {
   "cell_type": "markdown",
   "metadata": {},
   "source": [
    "There are three motions the robot can perform. Joint movements, world movements, and linear movements."
   ]
  },
  {
   "cell_type": "code",
   "execution_count": null,
   "metadata": {},
   "outputs": [],
   "source": [
    "# Move robot using joint coordinates\n",
    "joint_loc = RobotLocJoint(j1=20, j2=0, j3=-15, j4=0, j5=-25, j6=0)\n",
    "robot.move_joint(joint_loc)"
   ]
  },
  {
   "cell_type": "code",
   "execution_count": null,
   "metadata": {},
   "outputs": [],
   "source": [
    "# Move robot using world coordinates\n",
    "world_loc = RobotLocWorld(x=345.437, y=128.544, z=-119.671,\n",
    "                          w=179.499, p=0.827,   r=2.541, \n",
    "                          f=False, u=True, t=True)\n",
    "robot.move(world_loc)"
   ]
  },
  {
   "cell_type": "code",
   "execution_count": null,
   "metadata": {},
   "outputs": [],
   "source": [
    "# Move robot using linear motion (requires world coordinates)\n",
    "world_loc = RobotLocWorld(x=345.437, y=128.544, z=-9.080,\n",
    "                          w=179.499, p=0.827,   r=2.541, \n",
    "                          f=False, u=True, t=True)\n",
    "robot.move(world_loc, move_linear=True, speed=ROBOT_SPEED_LINEAR)"
   ]
  },
  {
   "cell_type": "markdown",
   "metadata": {},
   "source": [
    "You can retrieve the current location of the robot in either joint or world coordinates with the following commands:"
   ]
  },
  {
   "cell_type": "code",
   "execution_count": null,
   "metadata": {},
   "outputs": [],
   "source": [
    "# Retrieve the current world XYZWPR coordinates of the robot\n",
    "loc_world = robot.get_position(\"world\")\n",
    "print(f'Current world location: {loc_world}\\n')\n",
    "\n",
    "# Retrieve the current joint coordinates of the robot\n",
    "loc_joint = robot.get_position(\"joint\")\n",
    "print(f'Current joint location: {loc_joint}\\n')"
   ]
  },
  {
   "cell_type": "markdown",
   "metadata": {},
   "source": [
    "## Gripper Actuation"
   ]
  },
  {
   "cell_type": "code",
   "execution_count": null,
   "metadata": {},
   "outputs": [],
   "source": [
    "# Open gripper\n",
    "robot.open_gripper()"
   ]
  },
  {
   "cell_type": "code",
   "execution_count": null,
   "metadata": {},
   "outputs": [],
   "source": [
    "# Close Gripper\n",
    "robot.close_gripper()"
   ]
  },
  {
   "cell_type": "markdown",
   "metadata": {},
   "source": [
    "## Close connection with robot"
   ]
  },
  {
   "cell_type": "code",
   "execution_count": null,
   "metadata": {},
   "outputs": [],
   "source": [
    "# Close the connection to the Fanuc PCDK server\n",
    "robot.close_connection()"
   ]
  }
 ],
 "metadata": {
  "kernelspec": {
   "display_name": "Python 3",
   "language": "python",
   "name": "python3"
  },
  "language_info": {
   "codemirror_mode": {
    "name": "ipython",
    "version": 3
   },
   "file_extension": ".py",
   "mimetype": "text/x-python",
   "name": "python",
   "nbconvert_exporter": "python",
   "pygments_lexer": "ipython3",
   "version": "3.7.3"
  }
 },
 "nbformat": 4,
 "nbformat_minor": 2
}
