{
 "metadata": {
  "name": ""
 },
 "nbformat": 3,
 "nbformat_minor": 0,
 "worksheets": [
  {
   "cells": [
    {
     "cell_type": "code",
     "collapsed": false,
     "input": [
      "%matplotlib inline\n",
      "%config IPCompleter.greedy=True\n",
      "%reload_ext autoreload\n",
      "%autoreload 2"
     ],
     "language": "python",
     "metadata": {},
     "outputs": []
    },
    {
     "cell_type": "code",
     "collapsed": false,
     "input": [
      "import os\n",
      "import sys\n",
      "sys.path.insert(0, '../libraries')\n",
      "\n",
      "import requests\n",
      "import cv2\n",
      "import matplotlib.pyplot as plt\n",
      "import numpy as np\n",
      "\n",
      "from uogbaxter.detect import detect_toy"
     ],
     "language": "python",
     "metadata": {},
     "outputs": []
    },
    {
     "cell_type": "code",
     "collapsed": false,
     "input": [
      "example_image = cv2.imread('../../data/images/camel_6.jpg')\n",
      "plt.imshow(cv2.cvtColor(example_image, cv2.COLOR_BGR2RGB))"
     ],
     "language": "python",
     "metadata": {},
     "outputs": []
    },
    {
     "cell_type": "code",
     "collapsed": false,
     "input": [
      "detection = detect_toy(example_image)"
     ],
     "language": "python",
     "metadata": {},
     "outputs": []
    },
    {
     "cell_type": "code",
     "collapsed": false,
     "input": [
      "detection"
     ],
     "language": "python",
     "metadata": {},
     "outputs": []
    },
    {
     "cell_type": "code",
     "collapsed": false,
     "input": [
      "# define colors. in opencv, colors are ordered in BGR *not* RGB\n",
      "red = (0, 0, 255)\n",
      "green = (0, 255, 0)\n",
      "blue = (255, 0, 0)\n",
      "yellow = (0, 255, 255)\n",
      "\n",
      "# draw center point in red\n",
      "cv2.circle(example_image, detection.get('center'), radius=10, color=red, thickness=10)\n",
      "\n",
      "# draw minimum bounding rectangle in green\n",
      "cv2.drawContours(example_image, [np.intp(detection.get('min_rectangle'))], contourIdx=-1, color=green, thickness=5)\n",
      "\n",
      "# display image. to show correct colors you have to convert from BGR to RGB\n",
      "plt.imshow(cv2.cvtColor(example_image, cv2.COLOR_BGR2RGB))"
     ],
     "language": "python",
     "metadata": {},
     "outputs": []
    }
   ],
   "metadata": {}
  }
 ]
}