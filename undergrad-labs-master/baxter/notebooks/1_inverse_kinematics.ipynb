{
 "metadata": {
  "name": "baxter_ik"
 },
 "nbformat": 3,
 "nbformat_minor": 0,
 "worksheets": [
  {
   "cells": [
    {
     "cell_type": "markdown",
     "metadata": {},
     "source": "# Baxter Inverse Kinematics Introduction\n\nLearn how to move the baxter in Cartesian space (inverse kinematics).\n\n##### ENGG 4460 University of Guelph, Patrick Wspanialy"
    },
    {
     "cell_type": "markdown",
     "metadata": {},
     "source": "Import python modules needed to control Baxter"
    },
    {
     "cell_type": "code",
     "collapsed": false,
     "input": "import pprint\nimport math\nimport rospy\nimport baxter_interface\nfrom baxter_interface import (RobotEnable, Gripper)\nfrom geometry_msgs.msg import (\n    PoseStamped,\n    Pose,\n    Point,\n    Quaternion,\n)\nfrom std_msgs.msg import Header\nfrom baxter_core_msgs.srv import (\n    SolvePositionIK,\n    SolvePositionIKRequest,\n)\npp = pprint.PrettyPrinter(indent=4)",
     "language": "python",
     "metadata": {},
     "outputs": []
    },
    {
     "cell_type": "markdown",
     "metadata": {},
     "source": "Initialize a new ROS node and connect to the inverse kinematics services for the right and left arms. "
    },
    {
     "cell_type": "code",
     "collapsed": false,
     "input": "rospy.init_node(\"rsdk_ik_service_client\")\n\nright_namespace = \"ExternalTools/right/PositionKinematicsNode/IKService\"\nleft_namespace = \"ExternalTools/left/PositionKinematicsNode/IKService\"\n\nright_ik_service = rospy.ServiceProxy(right_namespace, SolvePositionIK)\nleft_ik_service = rospy.ServiceProxy(left_namespace, SolvePositionIK)\n\nright_ik_request = SolvePositionIKRequest()\nleft_ik_request = SolvePositionIKRequest()\n\nik_header = Header(stamp=rospy.Time.now(), frame_id='base')",
     "language": "python",
     "metadata": {},
     "outputs": []
    },
    {
     "cell_type": "markdown",
     "metadata": {},
     "source": "Enable Baxter"
    },
    {
     "cell_type": "code",
     "collapsed": false,
     "input": "baxter = RobotEnable()\nbaxter.enable()",
     "language": "python",
     "metadata": {},
     "outputs": []
    },
    {
     "cell_type": "markdown",
     "metadata": {},
     "source": "Choose the pose we want the right arm to go to. \n\n#### Position\n- x: in, out. 0 is at the center of Baxter\n- y: left, right. 0 is at the center of Baxter\n- z: up, down. 0 is at the table surface (don't assign z to be less than 0)\n\n#### Orientation\nhttps://en.wikipedia.org/wiki/Quaternions_and_spatial_rotation\n\n\n| x  | y  | z  |  w | description  |\n|---|---|---|---|---|\n| 0  | 0  | 0  | 1  | neutral position, no rotations applied  |\n| 1  | 0  | 0  | 0  | 180\u00b0 turn around X axis |\n| 0  | 1  | 0  | 0  | 180\u00b0 turn around Y axis  |\n| 0  | 0  | 1  | 0  | 180\u00b0 turn around Z axis  |\n| math.sqrt(0.5)  | 0  | 0  | math.sqrt(0.5)  | 90\u00b0 rotation around X axis  |\n| 0  | math.sqrt(0.5)  | 0 | math.sqrt(0.5)  | 90\u00b0 rotation around Y axis  |\n| 0  | 0  | math.sqrt(0.5)  | math.sqrt(0.5)  | 90\u00b0 rotation around Z axis  |\n| -math.sqrt(0.5)  | 0  | 0  | math.sqrt(0.5)  | -90\u00b0 rotation around X axis  |\n| 0  | -math.sqrt(0.5)  | 0  | math.sqrt(0.5)  | -90\u00b0 rotation around Y axis  |\n| 0  | 0  |  -math.sqrt(0.5) | math.sqrt(0.5)  | -90\u00b0 rotation around Z axis  |\n\n"
    },
    {
     "cell_type": "code",
     "collapsed": false,
     "input": "right_pose = PoseStamped(\n            header=ik_header,\n            pose=Pose(\n                position=Point(\n                    x=0.5,\n                    y=-0.5,\n                    z=0.6,\n                ),\n                orientation=Quaternion(\n                    x=0.0,\n                    y=0.0,\n                    z=0.0,\n                    w=1.0,\n                ),\n            ),\n        )",
     "language": "python",
     "metadata": {},
     "outputs": []
    },
    {
     "cell_type": "markdown",
     "metadata": {},
     "source": "Store our pose into our request variable."
    },
    {
     "cell_type": "code",
     "collapsed": false,
     "input": "right_ik_request.pose_stamp[:] = []\nright_ik_request.pose_stamp.append(right_pose)\n\nprint right_ik_request.pose_stamp",
     "language": "python",
     "metadata": {},
     "outputs": []
    },
    {
     "cell_type": "markdown",
     "metadata": {},
     "source": "Try to get a joint solution to the pose we defined using the inverse kinematics engine running in Baxter."
    },
    {
     "cell_type": "code",
     "collapsed": false,
     "input": "try:\n    rospy.wait_for_service(right_namespace, 5.0)\n    right_ik_response = right_ik_service(right_ik_request)\n    if (right_ik_response.isValid[0]):\n        right_limb_joints = dict(zip(right_ik_response.joints[0].name, right_ik_response.joints[0].position))\n        pp.pprint(right_limb_joints)\n    else:\n        print(\"INVALID POSE - No Valid Joint Solution Found.\")\nexcept (rospy.ServiceException, rospy.ROSException), e:\n    rospy.logerr(\"Service call failed: %s\" % (e,))",
     "language": "python",
     "metadata": {},
     "outputs": []
    },
    {
     "cell_type": "markdown",
     "metadata": {},
     "source": "If a joint solution to our pose exists, we can move the the joints positions the IK engine generated."
    },
    {
     "cell_type": "code",
     "collapsed": false,
     "input": "right_arm = baxter_interface.Limb('right')\nright_arm.move_to_joint_positions(right_limb_joints)",
     "language": "python",
     "metadata": {},
     "outputs": []
    },
    {
     "cell_type": "markdown",
     "metadata": {},
     "source": "Let's print out the joint positions, along with the Cartesian position and Quaternion orientation"
    },
    {
     "cell_type": "code",
     "collapsed": false,
     "input": "right_angles = right_arm.joint_angles()\nright_pose = right_arm.endpoint_pose()\npp.pprint(right_angles)\nprint \"\\n\"\npp.pprint(right_pose['position'])\npp.pprint(right_pose['orientation'])\n",
     "language": "python",
     "metadata": {},
     "outputs": []
    },
    {
     "cell_type": "code",
     "collapsed": false,
     "input": "",
     "language": "python",
     "metadata": {},
     "outputs": []
    }
   ],
   "metadata": {}
  }
 ]
}