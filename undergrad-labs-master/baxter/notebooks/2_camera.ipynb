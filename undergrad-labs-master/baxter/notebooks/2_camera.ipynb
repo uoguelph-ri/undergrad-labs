{
 "metadata": {
  "name": "baxter_vision"
 },
 "nbformat": 3,
 "nbformat_minor": 0,
 "worksheets": [
  {
   "cells": [
    {
     "cell_type": "markdown",
     "metadata": {},
     "source": "# Baxter Vision Introduction\n\nLearn how make baxter use its cameras and distance sensors.\n\n##### ENGG 4460 University of Guelph, Patrick Wspanialy"
    },
    {
     "cell_type": "markdown",
     "metadata": {},
     "source": "Import python modules needed to control Baxter"
    },
    {
     "cell_type": "code",
     "collapsed": false,
     "input": "import pprint\nimport math\nimport rospy\nimport baxter_interface\nfrom baxter_interface import RobotEnable\nfrom baxter_interface import CameraController\nfrom sensor_msgs.msg import Image, Range\nimport cv2\nimport cv_bridge\nfrom cv_bridge import CvBridge, CvBridgeError\nbridge = CvBridge()\npp = pprint.PrettyPrinter(indent=4, width=1)",
     "language": "python",
     "metadata": {},
     "outputs": []
    },
    {
     "cell_type": "markdown",
     "metadata": {},
     "source": "Initialize a new ROS node and name it \"camera_example\" "
    },
    {
     "cell_type": "code",
     "collapsed": false,
     "input": "rospy.init_node('camera_example')",
     "language": "python",
     "metadata": {},
     "outputs": []
    },
    {
     "cell_type": "markdown",
     "metadata": {},
     "source": "Create variables to access Baxter's two hand cameras."
    },
    {
     "cell_type": "code",
     "collapsed": false,
     "input": "right_hand_camera = CameraController('right_hand_camera')\nleft_hand_camera = CameraController('left_hand_camera')",
     "language": "python",
     "metadata": {},
     "outputs": []
    },
    {
     "cell_type": "markdown",
     "metadata": {},
     "source": "Set some of the properties of the right hand camera. Once the properties are set, we need to \"open\" the camera to activate it. "
    },
    {
     "cell_type": "code",
     "collapsed": false,
     "input": "right_hand_camera.resolution = (960, 600)\nright_hand_camera.gain = 0\nright_hand_camera.open()",
     "language": "python",
     "metadata": {},
     "outputs": []
    },
    {
     "cell_type": "markdown",
     "metadata": {},
     "source": "To helps us understand how far away an object is from the hand, we can use Baxter's range sensors. They have a maximum range of ~0.3m. If you see ~65, that means it's not seeing anything in range.\n\nWe define a class that will take care of reading the range sensors for us."
    },
    {
     "cell_type": "code",
     "collapsed": false,
     "input": "class BaxterRangeSensor(object):\n    def __init__(self):\n        self.distance = {}\n        root_name = \"/robot/range/\"\n        sensor_name = [\"left_hand_range/state\",\"right_hand_range/state\"]\n        self.__left_sensor = rospy.Subscriber(root_name + sensor_name[0], Range, callback=self.__sensorCallback, callback_args=\"left\", queue_size=1)\n        self.__right_sensor = rospy.Subscriber(root_name + sensor_name[1], Range, callback=self.__sensorCallback, callback_args=\"right\", queue_size=1)\n       \n    def __sensorCallback(self,msg,side):\n       self.distance[side] = msg.range\n\nrange_sensors = BaxterRangeSensor()",
     "language": "python",
     "metadata": {},
     "outputs": []
    },
    {
     "cell_type": "markdown",
     "metadata": {},
     "source": "Now we can access the distances seen by the range sensors."
    },
    {
     "cell_type": "code",
     "collapsed": false,
     "input": "pp.pprint(range_sensors.distance)",
     "language": "python",
     "metadata": {},
     "outputs": []
    },
    {
     "cell_type": "markdown",
     "metadata": {},
     "source": "Now let's take a video with our right hand camera, add some graphics to it, and show it on Baxter's face."
    },
    {
     "cell_type": "code",
     "collapsed": false,
     "input": "class BaxterRightHandVision(object):\n    def __init__(self):\n        right_hand_image_topic = '/cameras/right_hand_camera/image'\n        right_hand_image_subscriber = rospy.Subscriber(right_hand_image_topic, Image, callback=self.__processImageCallback, queue_size=1)\n        display_topic = '/robot/xdisplay'\n        self.__display_publisher = rospy.Publisher(display_topic, Image, queue_size=1)\n        \n    def __processImageCallback(self, message):\n        # convert ROS iamge to OpenCV image\n        cv2_image = bridge.imgmsg_to_cv2(message)\n        \n        # this is where we do our image processing. \n        # We're just going to draw a red rectangle and the distance we previously got from our distance sensor\n        # note, that in OpenCV, colors are represented as (blue, green, red), rather than RGB\n        cv2.rectangle(\n                      cv2_image,\n                      pt1=(280,200),\n                      pt2=(680,400),\n                      color=(0,0,255),\n                      thickness=5\n                      )\n        cv2.putText(\n                    cv2_image,\n                    text='%.2f' % range_sensors.distance['right'],\n                    org=(400,500),\n                    fontFace=cv2.FONT_HERSHEY_SIMPLEX,\n                    fontScale=2,\n                    color=(255,255,0)\n                    )\n\n        # convert OpenCV image back to ROS image\n        ros_image = bridge.cv2_to_imgmsg(cv2_image)\n        \n        # publish our modified image to the display\n        self.__display_publisher.publish(ros_image)\n        \nright_hand_vision = BaxterRightHandVision()",
     "language": "python",
     "metadata": {},
     "outputs": []
    },
    {
     "cell_type": "code",
     "collapsed": false,
     "input": "",
     "language": "python",
     "metadata": {},
     "outputs": []
    }
   ],
   "metadata": {}
  }
 ]
}