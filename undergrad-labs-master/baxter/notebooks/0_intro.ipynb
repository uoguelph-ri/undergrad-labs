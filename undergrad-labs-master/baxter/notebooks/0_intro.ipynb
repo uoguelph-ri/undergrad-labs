{
 "metadata": {
  "name": "baxter_intro"
 },
 "nbformat": 3,
 "nbformat_minor": 0,
 "worksheets": [
  {
   "cells": [
    {
     "cell_type": "markdown",
     "metadata": {},
     "source": "# Baxter Introduction\n\nLearn how to move the baxter in joint space (forward kinematics) and how to operate its two finger and vacuum grippers.\n\n##### ENGG 4460 University of Guelph, Patrick Wspanialy"
    },
    {
     "cell_type": "markdown",
     "metadata": {},
     "source": "Before you start working with Baxter and this notebook, make sure you launched the notebook from a `Baxter shell`.\n\nYou can start a Baxter shell by entering the following command into a `Terminal`.\n\n    bash --rcfile ~/.bashrc.baxter \n    \nThen close this window and rerun `ipython notebook` in the new `Baxter shell` you just created."
    },
    {
     "cell_type": "markdown",
     "metadata": {},
     "source": "Import python modules needed to control Baxter"
    },
    {
     "cell_type": "code",
     "collapsed": false,
     "input": "import pprint\nimport math\nimport rospy\nimport baxter_interface\nfrom baxter_interface import RobotEnable\nfrom baxter_interface import Gripper\npp = pprint.PrettyPrinter(indent=4)",
     "language": "python",
     "metadata": {},
     "outputs": []
    },
    {
     "cell_type": "markdown",
     "metadata": {},
     "source": "Initialize a new ROS node and name it \"Hello_Baxter\", "
    },
    {
     "cell_type": "code",
     "collapsed": false,
     "input": "rospy.init_node('Hello_Baxter')",
     "language": "python",
     "metadata": {},
     "outputs": []
    },
    {
     "cell_type": "markdown",
     "metadata": {},
     "source": "If you didn't run the `rosrun baxter_tools enable_robot.py -e` command, you can also enable baxter directly from Python."
    },
    {
     "cell_type": "code",
     "collapsed": false,
     "input": "baxter = RobotEnable()\nbaxter.enable()",
     "language": "python",
     "metadata": {},
     "outputs": []
    },
    {
     "cell_type": "markdown",
     "metadata": {},
     "source": "create a new limb objects for each arm, and print out the current limb joint angles"
    },
    {
     "cell_type": "code",
     "collapsed": false,
     "input": "right_arm = baxter_interface.Limb('right')\nleft_arm = baxter_interface.Limb('left')\nright_angles = right_arm.joint_angles()\nleft_angles = left_arm.joint_angles()\npp.pprint(right_angles)\npp.pprint(left_angles)",
     "language": "python",
     "metadata": {},
     "outputs": []
    },
    {
     "cell_type": "markdown",
     "metadata": {},
     "source": "Set new angles for the 7 joints of the arm and print them"
    },
    {
     "cell_type": "code",
     "collapsed": false,
     "input": "right_angles['right_s0']=0.0\nright_angles['right_s1']=0.0\nright_angles['right_e0']=0.0\nright_angles['right_e1']=0.0\nright_angles['right_w0']=0.0\nright_angles['right_w1']=0.0\nright_angles['right_w2']=0.0\n\npp.pprint(right_angles)",
     "language": "python",
     "metadata": {},
     "outputs": []
    },
    {
     "cell_type": "markdown",
     "metadata": {},
     "source": "[<img src=\"http://sdk.rethinkrobotics.com/mediawiki-1.22.2/images/7/7c/Baxter_arm.png\">]"
    },
    {
     "cell_type": "markdown",
     "metadata": {},
     "source": "Move the right arm to the set joint angles (this is forward kinematics)"
    },
    {
     "cell_type": "code",
     "collapsed": false,
     "input": "right_arm.move_to_joint_positions(right_angles)",
     "language": "python",
     "metadata": {},
     "outputs": []
    },
    {
     "cell_type": "markdown",
     "metadata": {},
     "source": "Get the Cartesian space coordinates of the right hand"
    },
    {
     "cell_type": "code",
     "collapsed": false,
     "input": "right_pose = right_arm.endpoint_pose()\n\npp.pprint(right_pose['position'])\nprint \"\\n\"\npp.pprint(right_pose['orientation'])",
     "language": "python",
     "metadata": {},
     "outputs": []
    },
    {
     "cell_type": "markdown",
     "metadata": {},
     "source": "Repeat for process for the other arm"
    },
    {
     "cell_type": "code",
     "collapsed": false,
     "input": "left_angles['left_s0']=0.0\nleft_angles['left_s1']=0.0\nleft_angles['left_e0']=0.0\nleft_angles['left_e1']=0.0\nleft_angles['left_w0']=0.0\nleft_angles['left_w1']=0.0\nleft_angles['left_w2']=0.0\n\npp.pprint(left_angles)\n\n\nleft_arm.move_to_joint_positions(left_angles)",
     "language": "python",
     "metadata": {},
     "outputs": []
    },
    {
     "cell_type": "markdown",
     "metadata": {},
     "source": "Make two new sets of joint angles for the right arm, corresponding to the beginning and end of a waving motion"
    },
    {
     "cell_type": "code",
     "collapsed": false,
     "input": "wave_1 = {'right_s0': -0.459, 'right_s1': -0.202, 'right_e0': 1.807, 'right_e1': 1.714, 'right_w0': -0.906, 'right_w1': -1.545, 'right_w2': -0.276}\nwave_2 = {'right_s0': -0.395, 'right_s1': -0.202, 'right_e0': 1.831, 'right_e1': 1.981, 'right_w0': -1.979, 'right_w1': -1.100, 'right_w2': -0.448}",
     "language": "python",
     "metadata": {},
     "outputs": []
    },
    {
     "cell_type": "markdown",
     "metadata": {},
     "source": "Using a `for loop`, repeat the wave twice"
    },
    {
     "cell_type": "code",
     "collapsed": false,
     "input": "for _move in range(2):\n    right_arm.move_to_joint_positions(wave_1)\n    right_arm.move_to_joint_positions(wave_2)",
     "language": "python",
     "metadata": {},
     "outputs": []
    },
    {
     "cell_type": "markdown",
     "metadata": {},
     "source": "Initialize Baxter's end effectors. It has a two finger gripper on its right arm, and a vacuum on its left arm."
    },
    {
     "cell_type": "code",
     "collapsed": false,
     "input": "fingers = Gripper('right')\nfingers.calibrate()\n\nvacuum = Gripper('left')\nvacuum_sensor = baxter_interface.AnalogIO('left_vacuum_sensor_analog')",
     "language": "python",
     "metadata": {},
     "outputs": []
    },
    {
     "cell_type": "markdown",
     "metadata": {},
     "source": "Close the two finger gripper"
    },
    {
     "cell_type": "code",
     "collapsed": false,
     "input": "fingers.close()",
     "language": "python",
     "metadata": {},
     "outputs": []
    },
    {
     "cell_type": "markdown",
     "metadata": {},
     "source": "Open the two finger gripper"
    },
    {
     "cell_type": "code",
     "collapsed": false,
     "input": "fingers.open()",
     "language": "python",
     "metadata": {},
     "outputs": []
    },
    {
     "cell_type": "markdown",
     "metadata": {},
     "source": "Turn on the vacuum and attempt to pick up an object. You can set a `timeout`, which will stop the vacuum if an object hasn't been detected. The default `timeout` value is 5 seconds."
    },
    {
     "cell_type": "code",
     "collapsed": false,
     "input": "vacuum.close(timeout=6)",
     "language": "python",
     "metadata": {},
     "outputs": []
    },
    {
     "cell_type": "markdown",
     "metadata": {},
     "source": "Turn off the vacuum and release what it's holding."
    },
    {
     "cell_type": "code",
     "collapsed": false,
     "input": "vacuum.open()",
     "language": "python",
     "metadata": {},
     "outputs": []
    },
    {
     "cell_type": "markdown",
     "metadata": {},
     "source": "Check if the vacuum gipper is holding anything."
    },
    {
     "cell_type": "code",
     "collapsed": false,
     "input": "vacuum_strength = vacuum_sensor.state()\nif vacuum_strength > 50:\n   print \"I've got it! :)  [vacuum strength: \" + str(vacuum_strength) + \"]\"\nelse:\n    print \"I'm not holding anything :(  [vacuum strength: \" + str(vacuum_strength) + \"]\"",
     "language": "python",
     "metadata": {},
     "outputs": []
    },
    {
     "cell_type": "markdown",
     "metadata": {},
     "source": "Disable baxter once you're done using him. Make sure to guide his arms into the correct resting position before disabling.\n\nThis example also shows you how you can define angle positions using degrees, and let python convert it to radians for you using `math.radians()`. You can go the other way when printing out the current position using `math.degrees()`."
    },
    {
     "cell_type": "code",
     "collapsed": false,
     "input": "right_angles['right_s0'] = math.radians(20)\nright_angles['right_s1'] = 0.0\nright_angles['right_e0'] = 0.0\nright_angles['right_e1'] = 0.0\nright_angles['right_w0'] = 0.0\nright_angles['right_w1'] = 0.0\nright_angles['right_w2'] = 0.0\n\nleft_angles['left_s0'] = math.radians(-20)\nleft_angles['left_s1'] = 0.0\nleft_angles['left_e0'] = 0.0\nleft_angles['left_e1'] = 0.0\nleft_angles['left_w0'] = 0.0\nleft_angles['left_w1'] = 0.0\nleft_angles['left_w2'] = 0.0\n\nright_arm.move_to_joint_positions(right_angles)\nleft_arm.move_to_joint_positions(left_angles)",
     "language": "python",
     "metadata": {},
     "outputs": []
    },
    {
     "cell_type": "code",
     "collapsed": false,
     "input": "baxter.disable()",
     "language": "python",
     "metadata": {},
     "outputs": []
    },
    {
     "cell_type": "code",
     "collapsed": false,
     "input": "",
     "language": "python",
     "metadata": {},
     "outputs": []
    }
   ],
   "metadata": {}
  }
 ]
}